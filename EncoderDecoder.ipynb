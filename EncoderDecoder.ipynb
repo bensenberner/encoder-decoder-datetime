{
 "cells": [
  {
   "cell_type": "code",
   "execution_count": 1,
   "metadata": {},
   "outputs": [],
   "source": [
    "%load_ext autoreload\n",
    "%autoreload 2"
   ]
  },
  {
   "cell_type": "code",
   "execution_count": 2,
   "metadata": {},
   "outputs": [],
   "source": [
    "import time\n",
    "import random\n",
    "import pandas as pd\n",
    "import tensorflow as tf\n",
    "from tensorflow import keras\n",
    "import numpy as np\n",
    "import tensorflow_addons as tfa\n",
    "from data_generator import DataGenerator\n",
    "from typing import List\n",
    "from tensorflow.keras.utils import plot_model"
   ]
  },
  {
   "cell_type": "code",
   "execution_count": 3,
   "metadata": {},
   "outputs": [],
   "source": [
    "m = 200\n",
    "SOS_CHAR = \"^\"\n",
    "# EOS_CHAR = \"$\""
   ]
  },
  {
   "cell_type": "code",
   "execution_count": 4,
   "metadata": {},
   "outputs": [],
   "source": [
    "curr_time_in_seconds = int(time.time())\n",
    "random_times_since_epoch = [\n",
    "    time.localtime(random.randrange(0, curr_time_in_seconds)) for _ in range(m)\n",
    "]"
   ]
  },
  {
   "cell_type": "markdown",
   "metadata": {},
   "source": [
    "Basic encoder decoder works like this:\n",
    "training:\n",
    "- encoder takes as input the encoder input string (January 02, 1990) embedded in ints for with an encoder-specific embedding\n",
    "- at the SAME TIME, the decoder takes two things as input:\n",
    "    - the encoder's final state\n",
    "    - the decoder input string embedded in ints with a decoder-specific embedding (must include EOS and SOS??)"
   ]
  },
  {
   "cell_type": "code",
   "execution_count": 37,
   "metadata": {},
   "outputs": [],
   "source": [
    "x_encoder_raw = [\n",
    "    time.strftime(\"%B %d, %Y\", random_time)\n",
    "    for random_time in random_times_since_epoch\n",
    "]\n",
    "def convert_encoder_input_to_ints(raw_encoder_strs: List[str]):\n",
    "    # TODO: only need to create this one time\n",
    "    original_char_set = set(\n",
    "        char\n",
    "        for string in raw_encoder_strs\n",
    "        for char in string\n",
    "    )\n",
    "    ordered_chars = sorted(original_char_set)\n",
    "    char_to_shifted_idx = {\n",
    "        char: idx + 1 # shift the idx so that 0 can be the padding char\n",
    "        for idx, char in enumerate(ordered_chars)\n",
    "    }\n",
    "    converted_encoder_rows = [\n",
    "        [char_to_shifted_idx[char] for char in string]\n",
    "        for string in raw_encoder_strs\n",
    "    ]\n",
    "    return converted_encoder_rows, ordered_chars\n",
    "encoder_input_lists, encoder_chars = convert_encoder_input_to_ints(x_encoder_raw)"
   ]
  },
  {
   "cell_type": "code",
   "execution_count": 29,
   "metadata": {},
   "outputs": [],
   "source": [
    "x_decoder_raw = [\n",
    "    time.strftime(\"%Y-%m-%d\", random_time)\n",
    "    for random_time in random_times_since_epoch\n",
    "]\n",
    "def convert_decoder_input_to_ints(raw_decoder_strs: List[str]):\n",
    "    # TODO: shifted to accommodate SOS and EOS... is that right?\n",
    "    chars_with_padding_tokens = f\"-0123456789{SOS_CHAR}\"\n",
    "    char_to_idx = {\n",
    "        char: idx\n",
    "        for idx, char in enumerate(chars_with_padding_tokens)\n",
    "    }\n",
    "    # TODO: doing string concatenation might be inefficient. Maybe could prepend char_to_idx[SOS_CHAR] to each row instead?\n",
    "    decoder_rows_as_ints_with_start_token = [\n",
    "        [char_to_idx[char] for char in string]\n",
    "        for string in raw_decoder_strs\n",
    "    ]\n",
    "    decoder_rows_as_ints_with_start_token_truncated = [\n",
    "        [char_to_idx[char] for char in SOS_CHAR + string[:-1]] # TODO TODO: how is this legal??\n",
    "        for string in raw_decoder_strs\n",
    "    ]\n",
    "    return (\n",
    "        decoder_rows_as_ints_with_start_token,\n",
    "        decoder_rows_as_ints_with_start_token_truncated,\n",
    "        chars_with_padding_tokens\n",
    "    )\n",
    "decoder_input_lists, decoder_target_lists, decoder_chars = convert_decoder_input_to_ints(x_decoder_raw)"
   ]
  },
  {
   "cell_type": "code",
   "execution_count": 30,
   "metadata": {},
   "outputs": [],
   "source": [
    "X_encoder = pd.DataFrame(encoder_input_lists).fillna(value=0).astype(np.int32)\n",
    "X_decoder = pd.DataFrame(decoder_input_lists).astype(np.int32)\n",
    "y_decoder = pd.DataFrame(decoder_target_lists).astype(np.int32) # TODO: is this cool??\n",
    "encoder_seq_lens = pd.Series([len(row) for row in encoder_input_lists])"
   ]
  },
  {
   "cell_type": "code",
   "execution_count": 31,
   "metadata": {},
   "outputs": [],
   "source": [
    "embed_size = 64 # TODO: change embed size?\n",
    "\n",
    "## Encoder\n",
    "# TODO: figure out size!\n",
    "encoder_input_layer = keras.layers.Input(shape=[None], dtype=np.int32)\n",
    "encoder_embeddings = keras.layers.Embedding(\n",
    "    input_dim=len(encoder_chars) + 1, # TODO: figure out how to do masking properly. mask_zero = True?\n",
    "    output_dim=embed_size\n",
    ")(encoder_input_layer)\n",
    "\n",
    "# TODO: right size for LSTM?\n",
    "encoder = keras.layers.LSTM(embed_size, return_state=True)\n",
    "encoder_outputs, state_h, state_c = encoder(encoder_embeddings)\n",
    "encoder_state = [state_h, state_c]\n",
    "\n",
    "## Decoder\n",
    "decoder_input_layer = keras.layers.Input(shape=[None], dtype=np.int32)\n",
    "decoder_embeddings = keras.layers.Embedding(\n",
    "    input_dim=len(decoder_chars) + 1, # TODO: why the + 2?\n",
    "    output_dim=embed_size\n",
    ")(decoder_input_layer)\n",
    "decoder = keras.layers.LSTM(embed_size, return_sequences=True) # need to predict full seq!\n",
    "decoder_outputs = decoder(\n",
    "    decoder_embeddings,\n",
    "    initial_state=encoder_state\n",
    ")\n",
    "\n",
    "dense_preds = keras.layers.Dense(\n",
    "    len(decoder_chars) + 1, # TODO: why the +1??\n",
    "    activation='softmax'\n",
    ")(decoder_outputs)\n",
    "\n",
    "model = keras.Model(\n",
    "    inputs=[\n",
    "        encoder_input_layer,\n",
    "        decoder_input_layer\n",
    "    ],\n",
    "    outputs=dense_preds\n",
    ")\n",
    "model.compile(\n",
    "    optimizer='adam',\n",
    "    loss='sparse_categorical_crossentropy',\n",
    "    metrics=['accuracy']\n",
    ")"
   ]
  },
  {
   "cell_type": "code",
   "execution_count": 36,
   "metadata": {},
   "outputs": [
    {
     "name": "stdout",
     "output_type": "stream",
     "text": [
      "Train on 200 samples\n",
      "Epoch 1/50\n",
      "200/200 [==============================] - 0s 720us/sample - loss: 0.4039 - accuracy: 0.9230\n",
      "Epoch 2/50\n",
      "200/200 [==============================] - 0s 737us/sample - loss: 0.3759 - accuracy: 0.9355\n",
      "Epoch 3/50\n",
      "200/200 [==============================] - 0s 806us/sample - loss: 0.3507 - accuracy: 0.9420\n",
      "Epoch 4/50\n",
      "200/200 [==============================] - 0s 819us/sample - loss: 0.3276 - accuracy: 0.9480\n",
      "Epoch 5/50\n",
      "200/200 [==============================] - 0s 853us/sample - loss: 0.3055 - accuracy: 0.9595\n",
      "Epoch 6/50\n",
      "200/200 [==============================] - 0s 904us/sample - loss: 0.2837 - accuracy: 0.9630\n",
      "Epoch 7/50\n",
      "200/200 [==============================] - 0s 1ms/sample - loss: 0.2635 - accuracy: 0.9650\n",
      "Epoch 8/50\n",
      "200/200 [==============================] - 0s 754us/sample - loss: 0.2443 - accuracy: 0.9725\n",
      "Epoch 9/50\n",
      "200/200 [==============================] - 0s 796us/sample - loss: 0.2264 - accuracy: 0.9780\n",
      "Epoch 10/50\n",
      "200/200 [==============================] - 0s 881us/sample - loss: 0.2098 - accuracy: 0.9820\n",
      "Epoch 11/50\n",
      "200/200 [==============================] - 0s 828us/sample - loss: 0.1933 - accuracy: 0.9850\n",
      "Epoch 12/50\n",
      "200/200 [==============================] - 0s 746us/sample - loss: 0.1785 - accuracy: 0.9865\n",
      "Epoch 13/50\n",
      "200/200 [==============================] - 0s 999us/sample - loss: 0.1650 - accuracy: 0.9880\n",
      "Epoch 14/50\n",
      "200/200 [==============================] - 0s 1ms/sample - loss: 0.1520 - accuracy: 0.9895\n",
      "Epoch 15/50\n",
      "200/200 [==============================] - 0s 889us/sample - loss: 0.1408 - accuracy: 0.9910\n",
      "Epoch 16/50\n",
      "200/200 [==============================] - 0s 818us/sample - loss: 0.1296 - accuracy: 0.9915\n",
      "Epoch 17/50\n",
      "200/200 [==============================] - 0s 792us/sample - loss: 0.1201 - accuracy: 0.9935\n",
      "Epoch 18/50\n",
      "200/200 [==============================] - 0s 757us/sample - loss: 0.1111 - accuracy: 0.9965\n",
      "Epoch 19/50\n",
      "200/200 [==============================] - 0s 750us/sample - loss: 0.1028 - accuracy: 0.9960\n",
      "Epoch 20/50\n",
      "200/200 [==============================] - 0s 1ms/sample - loss: 0.0952 - accuracy: 0.9960\n",
      "Epoch 21/50\n",
      "200/200 [==============================] - 0s 896us/sample - loss: 0.0886 - accuracy: 0.9970\n",
      "Epoch 22/50\n",
      "200/200 [==============================] - 0s 755us/sample - loss: 0.0823 - accuracy: 0.9970\n",
      "Epoch 23/50\n",
      "200/200 [==============================] - 0s 735us/sample - loss: 0.0767 - accuracy: 0.9975\n",
      "Epoch 24/50\n",
      "200/200 [==============================] - 0s 766us/sample - loss: 0.0718 - accuracy: 0.9980\n",
      "Epoch 25/50\n",
      "200/200 [==============================] - 0s 820us/sample - loss: 0.0673 - accuracy: 0.9990\n",
      "Epoch 26/50\n",
      "200/200 [==============================] - 0s 788us/sample - loss: 0.0631 - accuracy: 0.9990\n",
      "Epoch 27/50\n",
      "200/200 [==============================] - 0s 2ms/sample - loss: 0.0595 - accuracy: 0.9990\n",
      "Epoch 28/50\n",
      "200/200 [==============================] - 0s 708us/sample - loss: 0.0559 - accuracy: 0.9990\n",
      "Epoch 29/50\n",
      "200/200 [==============================] - 0s 705us/sample - loss: 0.0527 - accuracy: 0.9990\n",
      "Epoch 30/50\n",
      "200/200 [==============================] - 0s 770us/sample - loss: 0.0498 - accuracy: 0.9990\n",
      "Epoch 31/50\n",
      "200/200 [==============================] - 0s 743us/sample - loss: 0.0472 - accuracy: 0.9990\n",
      "Epoch 32/50\n",
      "200/200 [==============================] - 0s 824us/sample - loss: 0.0447 - accuracy: 0.9995\n",
      "Epoch 33/50\n",
      "200/200 [==============================] - 0s 1ms/sample - loss: 0.0424 - accuracy: 0.9995\n",
      "Epoch 34/50\n",
      "200/200 [==============================] - 0s 823us/sample - loss: 0.0403 - accuracy: 0.9995\n",
      "Epoch 35/50\n",
      "200/200 [==============================] - 0s 735us/sample - loss: 0.0383 - accuracy: 0.9995\n",
      "Epoch 36/50\n",
      "200/200 [==============================] - 0s 776us/sample - loss: 0.0365 - accuracy: 1.0000\n",
      "Epoch 37/50\n",
      "200/200 [==============================] - 0s 788us/sample - loss: 0.0348 - accuracy: 1.0000\n",
      "Epoch 38/50\n",
      "200/200 [==============================] - 0s 898us/sample - loss: 0.0333 - accuracy: 1.0000\n",
      "Epoch 39/50\n",
      "200/200 [==============================] - 0s 1ms/sample - loss: 0.0319 - accuracy: 1.0000\n",
      "Epoch 40/50\n",
      "200/200 [==============================] - 0s 1ms/sample - loss: 0.0305 - accuracy: 1.0000\n",
      "Epoch 41/50\n",
      "200/200 [==============================] - 0s 714us/sample - loss: 0.0293 - accuracy: 1.0000\n",
      "Epoch 42/50\n",
      "200/200 [==============================] - 0s 854us/sample - loss: 0.0280 - accuracy: 1.0000\n",
      "Epoch 43/50\n",
      "200/200 [==============================] - 0s 877us/sample - loss: 0.0270 - accuracy: 1.0000\n",
      "Epoch 44/50\n",
      "200/200 [==============================] - 0s 767us/sample - loss: 0.0259 - accuracy: 1.0000\n",
      "Epoch 45/50\n",
      "200/200 [==============================] - 0s 826us/sample - loss: 0.0249 - accuracy: 1.0000\n",
      "Epoch 46/50\n",
      "200/200 [==============================] - 0s 780us/sample - loss: 0.0240 - accuracy: 1.0000\n",
      "Epoch 47/50\n",
      "200/200 [==============================] - 0s 1ms/sample - loss: 0.0231 - accuracy: 1.0000\n",
      "Epoch 48/50\n",
      "200/200 [==============================] - 0s 912us/sample - loss: 0.0223 - accuracy: 1.0000\n",
      "Epoch 49/50\n",
      "200/200 [==============================] - 0s 1ms/sample - loss: 0.0215 - accuracy: 1.0000\n",
      "Epoch 50/50\n",
      "200/200 [==============================] - 0s 1ms/sample - loss: 0.0208 - accuracy: 1.0000\n"
     ]
    },
    {
     "data": {
      "text/plain": [
       "<tensorflow.python.keras.callbacks.History at 0x138ebe510>"
      ]
     },
     "execution_count": 36,
     "metadata": {},
     "output_type": "execute_result"
    }
   ],
   "source": [
    "model.fit(\n",
    "    x=[X_encoder, X_decoder],\n",
    "    y=y_decoder,\n",
    "    epochs=50\n",
    ")"
   ]
  },
  {
   "cell_type": "code",
   "execution_count": 45,
   "metadata": {},
   "outputs": [
    {
     "name": "stdout",
     "output_type": "stream",
     "text": [
      "-0123456789^\n"
     ]
    },
    {
     "ename": "ValueError",
     "evalue": "substring not found",
     "output_type": "error",
     "traceback": [
      "\u001b[0;31m---------------------------------------------------------------------------\u001b[0m",
      "\u001b[0;31mValueError\u001b[0m                                Traceback (most recent call last)",
      "\u001b[0;32m<ipython-input-45-cafefde144ff>\u001b[0m in \u001b[0;36m<module>\u001b[0;34m\u001b[0m\n\u001b[1;32m      6\u001b[0m \u001b[0mencoder_input_padded\u001b[0m \u001b[0;34m=\u001b[0m  \u001b[0mints\u001b[0m \u001b[0;34m+\u001b[0m \u001b[0;34m[\u001b[0m\u001b[0;36m0\u001b[0m\u001b[0;34m]\u001b[0m \u001b[0;34m*\u001b[0m \u001b[0mpadding_len\u001b[0m\u001b[0;34m\u001b[0m\u001b[0;34m\u001b[0m\u001b[0m\n\u001b[1;32m      7\u001b[0m \u001b[0;34m\u001b[0m\u001b[0m\n\u001b[0;32m----> 8\u001b[0;31m \u001b[0mdecoder_input\u001b[0m \u001b[0;34m=\u001b[0m \u001b[0;34m[\u001b[0m\u001b[0mdecoder_chars\u001b[0m\u001b[0;34m.\u001b[0m\u001b[0mindex\u001b[0m\u001b[0;34m(\u001b[0m\u001b[0mchar\u001b[0m\u001b[0;34m)\u001b[0m \u001b[0;32mfor\u001b[0m \u001b[0mchar\u001b[0m \u001b[0;32min\u001b[0m \u001b[0mdecoder_input_raw\u001b[0m\u001b[0;34m]\u001b[0m\u001b[0;34m\u001b[0m\u001b[0;34m\u001b[0m\u001b[0m\n\u001b[0m\u001b[1;32m      9\u001b[0m \u001b[0;31m# TODO: how do I do inference?\u001b[0m\u001b[0;34m\u001b[0m\u001b[0;34m\u001b[0m\u001b[0;34m\u001b[0m\u001b[0m\n\u001b[1;32m     10\u001b[0m \u001b[0;34m\u001b[0m\u001b[0m\n",
      "\u001b[0;32m<ipython-input-45-cafefde144ff>\u001b[0m in \u001b[0;36m<listcomp>\u001b[0;34m(.0)\u001b[0m\n\u001b[1;32m      6\u001b[0m \u001b[0mencoder_input_padded\u001b[0m \u001b[0;34m=\u001b[0m  \u001b[0mints\u001b[0m \u001b[0;34m+\u001b[0m \u001b[0;34m[\u001b[0m\u001b[0;36m0\u001b[0m\u001b[0;34m]\u001b[0m \u001b[0;34m*\u001b[0m \u001b[0mpadding_len\u001b[0m\u001b[0;34m\u001b[0m\u001b[0;34m\u001b[0m\u001b[0m\n\u001b[1;32m      7\u001b[0m \u001b[0;34m\u001b[0m\u001b[0m\n\u001b[0;32m----> 8\u001b[0;31m \u001b[0mdecoder_input\u001b[0m \u001b[0;34m=\u001b[0m \u001b[0;34m[\u001b[0m\u001b[0mdecoder_chars\u001b[0m\u001b[0;34m.\u001b[0m\u001b[0mindex\u001b[0m\u001b[0;34m(\u001b[0m\u001b[0mchar\u001b[0m\u001b[0;34m)\u001b[0m \u001b[0;32mfor\u001b[0m \u001b[0mchar\u001b[0m \u001b[0;32min\u001b[0m \u001b[0mdecoder_input_raw\u001b[0m\u001b[0;34m]\u001b[0m\u001b[0;34m\u001b[0m\u001b[0;34m\u001b[0m\u001b[0m\n\u001b[0m\u001b[1;32m      9\u001b[0m \u001b[0;31m# TODO: how do I do inference?\u001b[0m\u001b[0;34m\u001b[0m\u001b[0;34m\u001b[0m\u001b[0;34m\u001b[0m\u001b[0m\n\u001b[1;32m     10\u001b[0m \u001b[0;34m\u001b[0m\u001b[0m\n",
      "\u001b[0;31mValueError\u001b[0m: substring not found"
     ]
    }
   ],
   "source": [
    "encoder_input_raw = \"January 13, 1986\"\n",
    "ints = [encoder_chars.index(char) for char in encoder_input_raw]\n",
    "padding_len = X_encoder.shape[1] - len(ints)\n",
    "encoder_input_padded =  ints + [0] * padding_len\n",
    "\n",
    "# TODO: how do I do inference? I gotta do one character at a time\n",
    "\n",
    "example_output = model.predict([encoder_input_padded, decoder_input])"
   ]
  },
  {
   "cell_type": "markdown",
   "metadata": {},
   "source": [
    "TODO: this is a more advanced version that I lifted from the textbook.\n",
    "I'll get to it when I get the basic version working"
   ]
  },
  {
   "cell_type": "code",
   "execution_count": 39,
   "metadata": {},
   "outputs": [],
   "source": [
    "encoder_input=encoder_input,\n",
    "decoder_input=decoder_input,\n",
    "decoder_target=decoder_target,\n",
    "sequence_lengths=x_eng_seq_lengths\n",
    "\n",
    "encoder_inputs = keras.layers.Input(shape=[None], dtype=np.int32)\n",
    "decoder_inputs = keras.layers.Input(shape=[None], dtype=np.int32)\n",
    "sequence_lengths = keras.layers.Input(shape=[], dtype=np.int32)\n",
    "\n",
    "encoder_vocab_size = len(encoder_chars) # TODO: seems like I should add 1 here. why?\n",
    "decoder_vocab_size = len(decoder_chars)\n",
    "embed_size = 64\n",
    "# TODO: why this embed size?\n",
    "# embeddings = keras.layers.Embedding(vocab_size, embed_size)\n",
    "# TODO: what is the signature of this embeddings? what's going on here\n",
    "encoder_embeddings = keras.layers.Embedding(\n",
    "    input_dim=encoder_vocab_size,\n",
    "    output_dim=embed_size,\n",
    "    mask_zero=True\n",
    ")(encoder_inputs)\n",
    "decoder_embeddings = keras.layers.Embedding(\n",
    "    input_dim=decoder_vocab_size,\n",
    "    output_dim=embed_size\n",
    ")(decoder_inputs)\n",
    "\n",
    "# TODO: is this the right size of the LSTM?\n",
    "encoder = keras.layers.LSTM(embed_size, return_state=True)\n",
    "# TODO: what do these long and short term states mean?\n",
    "encoder_outputs, state_h, state_c = encoder(encoder_embeddings)\n",
    "encoder_state = [state_h, state_c]\n",
    "\n",
    "sampler = tfa.seq2seq.sampler.TrainingSampler()\n",
    "\n",
    "decoder = keras.layers.LSTMCell(embed_size)\n",
    "output_layer = keras.layers.Dense(decoder_vocab_size)\n",
    "decoder = tfa.seq2seq.basic_decoder.BasicDecoder(\n",
    "    decoder_cell,\n",
    "    sampler,\n",
    "    output_layer=output_layer\n",
    ")\n",
    "# TODO: what does final_sequence_lengths mean?\n",
    "final_outputs, final_state, final_sequence_lengths = decoder(\n",
    "    decoder_embeddings,\n",
    "    initial_state=encoder_state,\n",
    "    sequence_length=sequence_lengths\n",
    ")\n",
    "y_proba = tf.nn.softmax(final_outputs.rnn_output)\n",
    "\n",
    "model = keras.Model(\n",
    "    inputs=[\n",
    "        encoder_inputs,\n",
    "        decoder_inputs,\n",
    "        sequence_lengths],\n",
    "    outputs=[y_proba],\n",
    ")\n",
    "model.compile(optimizer='adam', loss='sparse_categorical_crossentropy')"
   ]
  },
  {
   "cell_type": "code",
   "execution_count": 15,
   "metadata": {},
   "outputs": [
    {
     "name": "stdout",
     "output_type": "stream",
     "text": [
      "Model: \"model_1\"\n",
      "__________________________________________________________________________________________________\n",
      "Layer (type)                    Output Shape         Param #     Connected to                     \n",
      "==================================================================================================\n",
      "input_4 (InputLayer)            [(None, None)]       0                                            \n",
      "__________________________________________________________________________________________________\n",
      "input_5 (InputLayer)            [(None, None)]       0                                            \n",
      "__________________________________________________________________________________________________\n",
      "embedding_2 (Embedding)         (None, None, 64)     2496        input_4[0][0]                    \n",
      "__________________________________________________________________________________________________\n",
      "embedding_3 (Embedding)         (None, None, 64)     832         input_5[0][0]                    \n",
      "__________________________________________________________________________________________________\n",
      "lstm_2 (LSTM)                   [(None, 64), (None,  33024       embedding_2[0][0]                \n",
      "__________________________________________________________________________________________________\n",
      "lstm_3 (LSTM)                   (None, 64)           33024       embedding_3[0][0]                \n",
      "                                                                 lstm_2[0][1]                     \n",
      "                                                                 lstm_2[0][2]                     \n",
      "__________________________________________________________________________________________________\n",
      "dense_1 (Dense)                 (None, 13)           845         lstm_3[0][0]                     \n",
      "==================================================================================================\n",
      "Total params: 70,221\n",
      "Trainable params: 70,221\n",
      "Non-trainable params: 0\n",
      "__________________________________________________________________________________________________\n"
     ]
    }
   ],
   "source": [
    "model.summary()"
   ]
  },
  {
   "cell_type": "code",
   "execution_count": 40,
   "metadata": {},
   "outputs": [
    {
     "name": "stdout",
     "output_type": "stream",
     "text": [
      "Train on 200 samples\n",
      " 32/200 [===>..........................] - ETA: 20s"
     ]
    },
    {
     "ename": "InvalidArgumentError",
     "evalue": " Trying to access element 11 in a list with 11 elements.\n\t [[{{node model_2/basic_decoder_3/decoder/while/body/_10/cond/else/_726/TensorArrayV2Read/TensorListGetItem}}]] [Op:__inference_distributed_function_23552]\n\nFunction call stack:\ndistributed_function\n",
     "output_type": "error",
     "traceback": [
      "\u001b[0;31m---------------------------------------------------------------------------\u001b[0m",
      "\u001b[0;31mInvalidArgumentError\u001b[0m                      Traceback (most recent call last)",
      "\u001b[0;32m<ipython-input-40-c79c237ade14>\u001b[0m in \u001b[0;36m<module>\u001b[0;34m\u001b[0m\n\u001b[1;32m      5\u001b[0m         \u001b[0mencoder_seq_lens\u001b[0m\u001b[0;34m\u001b[0m\u001b[0;34m\u001b[0m\u001b[0m\n\u001b[1;32m      6\u001b[0m     ],\n\u001b[0;32m----> 7\u001b[0;31m     \u001b[0my\u001b[0m\u001b[0;34m=\u001b[0m\u001b[0my_decoder\u001b[0m\u001b[0;34m\u001b[0m\u001b[0;34m\u001b[0m\u001b[0m\n\u001b[0m\u001b[1;32m      8\u001b[0m )\n",
      "\u001b[0;32m/usr/local/lib/python3.7/site-packages/tensorflow_core/python/keras/engine/training.py\u001b[0m in \u001b[0;36mfit\u001b[0;34m(self, x, y, batch_size, epochs, verbose, callbacks, validation_split, validation_data, shuffle, class_weight, sample_weight, initial_epoch, steps_per_epoch, validation_steps, validation_freq, max_queue_size, workers, use_multiprocessing, **kwargs)\u001b[0m\n\u001b[1;32m    817\u001b[0m         \u001b[0mmax_queue_size\u001b[0m\u001b[0;34m=\u001b[0m\u001b[0mmax_queue_size\u001b[0m\u001b[0;34m,\u001b[0m\u001b[0;34m\u001b[0m\u001b[0;34m\u001b[0m\u001b[0m\n\u001b[1;32m    818\u001b[0m         \u001b[0mworkers\u001b[0m\u001b[0;34m=\u001b[0m\u001b[0mworkers\u001b[0m\u001b[0;34m,\u001b[0m\u001b[0;34m\u001b[0m\u001b[0;34m\u001b[0m\u001b[0m\n\u001b[0;32m--> 819\u001b[0;31m         use_multiprocessing=use_multiprocessing)\n\u001b[0m\u001b[1;32m    820\u001b[0m \u001b[0;34m\u001b[0m\u001b[0m\n\u001b[1;32m    821\u001b[0m   def evaluate(self,\n",
      "\u001b[0;32m/usr/local/lib/python3.7/site-packages/tensorflow_core/python/keras/engine/training_v2.py\u001b[0m in \u001b[0;36mfit\u001b[0;34m(self, model, x, y, batch_size, epochs, verbose, callbacks, validation_split, validation_data, shuffle, class_weight, sample_weight, initial_epoch, steps_per_epoch, validation_steps, validation_freq, max_queue_size, workers, use_multiprocessing, **kwargs)\u001b[0m\n\u001b[1;32m    340\u001b[0m                 \u001b[0mmode\u001b[0m\u001b[0;34m=\u001b[0m\u001b[0mModeKeys\u001b[0m\u001b[0;34m.\u001b[0m\u001b[0mTRAIN\u001b[0m\u001b[0;34m,\u001b[0m\u001b[0;34m\u001b[0m\u001b[0;34m\u001b[0m\u001b[0m\n\u001b[1;32m    341\u001b[0m                 \u001b[0mtraining_context\u001b[0m\u001b[0;34m=\u001b[0m\u001b[0mtraining_context\u001b[0m\u001b[0;34m,\u001b[0m\u001b[0;34m\u001b[0m\u001b[0;34m\u001b[0m\u001b[0m\n\u001b[0;32m--> 342\u001b[0;31m                 total_epochs=epochs)\n\u001b[0m\u001b[1;32m    343\u001b[0m             \u001b[0mcbks\u001b[0m\u001b[0;34m.\u001b[0m\u001b[0mmake_logs\u001b[0m\u001b[0;34m(\u001b[0m\u001b[0mmodel\u001b[0m\u001b[0;34m,\u001b[0m \u001b[0mepoch_logs\u001b[0m\u001b[0;34m,\u001b[0m \u001b[0mtraining_result\u001b[0m\u001b[0;34m,\u001b[0m \u001b[0mModeKeys\u001b[0m\u001b[0;34m.\u001b[0m\u001b[0mTRAIN\u001b[0m\u001b[0;34m)\u001b[0m\u001b[0;34m\u001b[0m\u001b[0;34m\u001b[0m\u001b[0m\n\u001b[1;32m    344\u001b[0m \u001b[0;34m\u001b[0m\u001b[0m\n",
      "\u001b[0;32m/usr/local/lib/python3.7/site-packages/tensorflow_core/python/keras/engine/training_v2.py\u001b[0m in \u001b[0;36mrun_one_epoch\u001b[0;34m(model, iterator, execution_function, dataset_size, batch_size, strategy, steps_per_epoch, num_samples, mode, training_context, total_epochs)\u001b[0m\n\u001b[1;32m    126\u001b[0m         step=step, mode=mode, size=current_batch_size) as batch_logs:\n\u001b[1;32m    127\u001b[0m       \u001b[0;32mtry\u001b[0m\u001b[0;34m:\u001b[0m\u001b[0;34m\u001b[0m\u001b[0;34m\u001b[0m\u001b[0m\n\u001b[0;32m--> 128\u001b[0;31m         \u001b[0mbatch_outs\u001b[0m \u001b[0;34m=\u001b[0m \u001b[0mexecution_function\u001b[0m\u001b[0;34m(\u001b[0m\u001b[0miterator\u001b[0m\u001b[0;34m)\u001b[0m\u001b[0;34m\u001b[0m\u001b[0;34m\u001b[0m\u001b[0m\n\u001b[0m\u001b[1;32m    129\u001b[0m       \u001b[0;32mexcept\u001b[0m \u001b[0;34m(\u001b[0m\u001b[0mStopIteration\u001b[0m\u001b[0;34m,\u001b[0m \u001b[0merrors\u001b[0m\u001b[0;34m.\u001b[0m\u001b[0mOutOfRangeError\u001b[0m\u001b[0;34m)\u001b[0m\u001b[0;34m:\u001b[0m\u001b[0;34m\u001b[0m\u001b[0;34m\u001b[0m\u001b[0m\n\u001b[1;32m    130\u001b[0m         \u001b[0;31m# TODO(kaftan): File bug about tf function and errors.OutOfRangeError?\u001b[0m\u001b[0;34m\u001b[0m\u001b[0;34m\u001b[0m\u001b[0;34m\u001b[0m\u001b[0m\n",
      "\u001b[0;32m/usr/local/lib/python3.7/site-packages/tensorflow_core/python/keras/engine/training_v2_utils.py\u001b[0m in \u001b[0;36mexecution_function\u001b[0;34m(input_fn)\u001b[0m\n\u001b[1;32m     96\u001b[0m     \u001b[0;31m# `numpy` translates Tensors to values in Eager mode.\u001b[0m\u001b[0;34m\u001b[0m\u001b[0;34m\u001b[0m\u001b[0;34m\u001b[0m\u001b[0m\n\u001b[1;32m     97\u001b[0m     return nest.map_structure(_non_none_constant_value,\n\u001b[0;32m---> 98\u001b[0;31m                               distributed_function(input_fn))\n\u001b[0m\u001b[1;32m     99\u001b[0m \u001b[0;34m\u001b[0m\u001b[0m\n\u001b[1;32m    100\u001b[0m   \u001b[0;32mreturn\u001b[0m \u001b[0mexecution_function\u001b[0m\u001b[0;34m\u001b[0m\u001b[0;34m\u001b[0m\u001b[0m\n",
      "\u001b[0;32m/usr/local/lib/python3.7/site-packages/tensorflow_core/python/eager/def_function.py\u001b[0m in \u001b[0;36m__call__\u001b[0;34m(self, *args, **kwds)\u001b[0m\n\u001b[1;32m    566\u001b[0m         \u001b[0mxla_context\u001b[0m\u001b[0;34m.\u001b[0m\u001b[0mExit\u001b[0m\u001b[0;34m(\u001b[0m\u001b[0;34m)\u001b[0m\u001b[0;34m\u001b[0m\u001b[0;34m\u001b[0m\u001b[0m\n\u001b[1;32m    567\u001b[0m     \u001b[0;32melse\u001b[0m\u001b[0;34m:\u001b[0m\u001b[0;34m\u001b[0m\u001b[0;34m\u001b[0m\u001b[0m\n\u001b[0;32m--> 568\u001b[0;31m       \u001b[0mresult\u001b[0m \u001b[0;34m=\u001b[0m \u001b[0mself\u001b[0m\u001b[0;34m.\u001b[0m\u001b[0m_call\u001b[0m\u001b[0;34m(\u001b[0m\u001b[0;34m*\u001b[0m\u001b[0margs\u001b[0m\u001b[0;34m,\u001b[0m \u001b[0;34m**\u001b[0m\u001b[0mkwds\u001b[0m\u001b[0;34m)\u001b[0m\u001b[0;34m\u001b[0m\u001b[0;34m\u001b[0m\u001b[0m\n\u001b[0m\u001b[1;32m    569\u001b[0m \u001b[0;34m\u001b[0m\u001b[0m\n\u001b[1;32m    570\u001b[0m     \u001b[0;32mif\u001b[0m \u001b[0mtracing_count\u001b[0m \u001b[0;34m==\u001b[0m \u001b[0mself\u001b[0m\u001b[0;34m.\u001b[0m\u001b[0m_get_tracing_count\u001b[0m\u001b[0;34m(\u001b[0m\u001b[0;34m)\u001b[0m\u001b[0;34m:\u001b[0m\u001b[0;34m\u001b[0m\u001b[0;34m\u001b[0m\u001b[0m\n",
      "\u001b[0;32m/usr/local/lib/python3.7/site-packages/tensorflow_core/python/eager/def_function.py\u001b[0m in \u001b[0;36m_call\u001b[0;34m(self, *args, **kwds)\u001b[0m\n\u001b[1;32m    630\u001b[0m         \u001b[0;31m# Lifting succeeded, so variables are initialized and we can run the\u001b[0m\u001b[0;34m\u001b[0m\u001b[0;34m\u001b[0m\u001b[0;34m\u001b[0m\u001b[0m\n\u001b[1;32m    631\u001b[0m         \u001b[0;31m# stateless function.\u001b[0m\u001b[0;34m\u001b[0m\u001b[0;34m\u001b[0m\u001b[0;34m\u001b[0m\u001b[0m\n\u001b[0;32m--> 632\u001b[0;31m         \u001b[0;32mreturn\u001b[0m \u001b[0mself\u001b[0m\u001b[0;34m.\u001b[0m\u001b[0m_stateless_fn\u001b[0m\u001b[0;34m(\u001b[0m\u001b[0;34m*\u001b[0m\u001b[0margs\u001b[0m\u001b[0;34m,\u001b[0m \u001b[0;34m**\u001b[0m\u001b[0mkwds\u001b[0m\u001b[0;34m)\u001b[0m\u001b[0;34m\u001b[0m\u001b[0;34m\u001b[0m\u001b[0m\n\u001b[0m\u001b[1;32m    633\u001b[0m     \u001b[0;32melse\u001b[0m\u001b[0;34m:\u001b[0m\u001b[0;34m\u001b[0m\u001b[0;34m\u001b[0m\u001b[0m\n\u001b[1;32m    634\u001b[0m       \u001b[0mcanon_args\u001b[0m\u001b[0;34m,\u001b[0m \u001b[0mcanon_kwds\u001b[0m \u001b[0;34m=\u001b[0m\u001b[0;31m \u001b[0m\u001b[0;31m\\\u001b[0m\u001b[0;34m\u001b[0m\u001b[0;34m\u001b[0m\u001b[0m\n",
      "\u001b[0;32m/usr/local/lib/python3.7/site-packages/tensorflow_core/python/eager/function.py\u001b[0m in \u001b[0;36m__call__\u001b[0;34m(self, *args, **kwargs)\u001b[0m\n\u001b[1;32m   2361\u001b[0m     \u001b[0;32mwith\u001b[0m \u001b[0mself\u001b[0m\u001b[0;34m.\u001b[0m\u001b[0m_lock\u001b[0m\u001b[0;34m:\u001b[0m\u001b[0;34m\u001b[0m\u001b[0;34m\u001b[0m\u001b[0m\n\u001b[1;32m   2362\u001b[0m       \u001b[0mgraph_function\u001b[0m\u001b[0;34m,\u001b[0m \u001b[0margs\u001b[0m\u001b[0;34m,\u001b[0m \u001b[0mkwargs\u001b[0m \u001b[0;34m=\u001b[0m \u001b[0mself\u001b[0m\u001b[0;34m.\u001b[0m\u001b[0m_maybe_define_function\u001b[0m\u001b[0;34m(\u001b[0m\u001b[0margs\u001b[0m\u001b[0;34m,\u001b[0m \u001b[0mkwargs\u001b[0m\u001b[0;34m)\u001b[0m\u001b[0;34m\u001b[0m\u001b[0;34m\u001b[0m\u001b[0m\n\u001b[0;32m-> 2363\u001b[0;31m     \u001b[0;32mreturn\u001b[0m \u001b[0mgraph_function\u001b[0m\u001b[0;34m.\u001b[0m\u001b[0m_filtered_call\u001b[0m\u001b[0;34m(\u001b[0m\u001b[0margs\u001b[0m\u001b[0;34m,\u001b[0m \u001b[0mkwargs\u001b[0m\u001b[0;34m)\u001b[0m  \u001b[0;31m# pylint: disable=protected-access\u001b[0m\u001b[0;34m\u001b[0m\u001b[0;34m\u001b[0m\u001b[0m\n\u001b[0m\u001b[1;32m   2364\u001b[0m \u001b[0;34m\u001b[0m\u001b[0m\n\u001b[1;32m   2365\u001b[0m   \u001b[0;34m@\u001b[0m\u001b[0mproperty\u001b[0m\u001b[0;34m\u001b[0m\u001b[0;34m\u001b[0m\u001b[0m\n",
      "\u001b[0;32m/usr/local/lib/python3.7/site-packages/tensorflow_core/python/eager/function.py\u001b[0m in \u001b[0;36m_filtered_call\u001b[0;34m(self, args, kwargs)\u001b[0m\n\u001b[1;32m   1609\u001b[0m          if isinstance(t, (ops.Tensor,\n\u001b[1;32m   1610\u001b[0m                            resource_variable_ops.BaseResourceVariable))),\n\u001b[0;32m-> 1611\u001b[0;31m         self.captured_inputs)\n\u001b[0m\u001b[1;32m   1612\u001b[0m \u001b[0;34m\u001b[0m\u001b[0m\n\u001b[1;32m   1613\u001b[0m   \u001b[0;32mdef\u001b[0m \u001b[0m_call_flat\u001b[0m\u001b[0;34m(\u001b[0m\u001b[0mself\u001b[0m\u001b[0;34m,\u001b[0m \u001b[0margs\u001b[0m\u001b[0;34m,\u001b[0m \u001b[0mcaptured_inputs\u001b[0m\u001b[0;34m,\u001b[0m \u001b[0mcancellation_manager\u001b[0m\u001b[0;34m=\u001b[0m\u001b[0;32mNone\u001b[0m\u001b[0;34m)\u001b[0m\u001b[0;34m:\u001b[0m\u001b[0;34m\u001b[0m\u001b[0;34m\u001b[0m\u001b[0m\n",
      "\u001b[0;32m/usr/local/lib/python3.7/site-packages/tensorflow_core/python/eager/function.py\u001b[0m in \u001b[0;36m_call_flat\u001b[0;34m(self, args, captured_inputs, cancellation_manager)\u001b[0m\n\u001b[1;32m   1690\u001b[0m       \u001b[0;31m# No tape is watching; skip to running the function.\u001b[0m\u001b[0;34m\u001b[0m\u001b[0;34m\u001b[0m\u001b[0;34m\u001b[0m\u001b[0m\n\u001b[1;32m   1691\u001b[0m       return self._build_call_outputs(self._inference_function.call(\n\u001b[0;32m-> 1692\u001b[0;31m           ctx, args, cancellation_manager=cancellation_manager))\n\u001b[0m\u001b[1;32m   1693\u001b[0m     forward_backward = self._select_forward_and_backward_functions(\n\u001b[1;32m   1694\u001b[0m         \u001b[0margs\u001b[0m\u001b[0;34m,\u001b[0m\u001b[0;34m\u001b[0m\u001b[0;34m\u001b[0m\u001b[0m\n",
      "\u001b[0;32m/usr/local/lib/python3.7/site-packages/tensorflow_core/python/eager/function.py\u001b[0m in \u001b[0;36mcall\u001b[0;34m(self, ctx, args, cancellation_manager)\u001b[0m\n\u001b[1;32m    543\u001b[0m               \u001b[0minputs\u001b[0m\u001b[0;34m=\u001b[0m\u001b[0margs\u001b[0m\u001b[0;34m,\u001b[0m\u001b[0;34m\u001b[0m\u001b[0;34m\u001b[0m\u001b[0m\n\u001b[1;32m    544\u001b[0m               \u001b[0mattrs\u001b[0m\u001b[0;34m=\u001b[0m\u001b[0;34m(\u001b[0m\u001b[0;34m\"executor_type\"\u001b[0m\u001b[0;34m,\u001b[0m \u001b[0mexecutor_type\u001b[0m\u001b[0;34m,\u001b[0m \u001b[0;34m\"config_proto\"\u001b[0m\u001b[0;34m,\u001b[0m \u001b[0mconfig\u001b[0m\u001b[0;34m)\u001b[0m\u001b[0;34m,\u001b[0m\u001b[0;34m\u001b[0m\u001b[0;34m\u001b[0m\u001b[0m\n\u001b[0;32m--> 545\u001b[0;31m               ctx=ctx)\n\u001b[0m\u001b[1;32m    546\u001b[0m         \u001b[0;32melse\u001b[0m\u001b[0;34m:\u001b[0m\u001b[0;34m\u001b[0m\u001b[0;34m\u001b[0m\u001b[0m\n\u001b[1;32m    547\u001b[0m           outputs = execute.execute_with_cancellation(\n",
      "\u001b[0;32m/usr/local/lib/python3.7/site-packages/tensorflow_core/python/eager/execute.py\u001b[0m in \u001b[0;36mquick_execute\u001b[0;34m(op_name, num_outputs, inputs, attrs, ctx, name)\u001b[0m\n\u001b[1;32m     65\u001b[0m     \u001b[0;32melse\u001b[0m\u001b[0;34m:\u001b[0m\u001b[0;34m\u001b[0m\u001b[0;34m\u001b[0m\u001b[0m\n\u001b[1;32m     66\u001b[0m       \u001b[0mmessage\u001b[0m \u001b[0;34m=\u001b[0m \u001b[0me\u001b[0m\u001b[0;34m.\u001b[0m\u001b[0mmessage\u001b[0m\u001b[0;34m\u001b[0m\u001b[0;34m\u001b[0m\u001b[0m\n\u001b[0;32m---> 67\u001b[0;31m     \u001b[0msix\u001b[0m\u001b[0;34m.\u001b[0m\u001b[0mraise_from\u001b[0m\u001b[0;34m(\u001b[0m\u001b[0mcore\u001b[0m\u001b[0;34m.\u001b[0m\u001b[0m_status_to_exception\u001b[0m\u001b[0;34m(\u001b[0m\u001b[0me\u001b[0m\u001b[0;34m.\u001b[0m\u001b[0mcode\u001b[0m\u001b[0;34m,\u001b[0m \u001b[0mmessage\u001b[0m\u001b[0;34m)\u001b[0m\u001b[0;34m,\u001b[0m \u001b[0;32mNone\u001b[0m\u001b[0;34m)\u001b[0m\u001b[0;34m\u001b[0m\u001b[0;34m\u001b[0m\u001b[0m\n\u001b[0m\u001b[1;32m     68\u001b[0m   \u001b[0;32mexcept\u001b[0m \u001b[0mTypeError\u001b[0m \u001b[0;32mas\u001b[0m \u001b[0me\u001b[0m\u001b[0;34m:\u001b[0m\u001b[0;34m\u001b[0m\u001b[0;34m\u001b[0m\u001b[0m\n\u001b[1;32m     69\u001b[0m     keras_symbolic_tensors = [\n",
      "\u001b[0;32m/usr/local/lib/python3.7/site-packages/six.py\u001b[0m in \u001b[0;36mraise_from\u001b[0;34m(value, from_value)\u001b[0m\n",
      "\u001b[0;31mInvalidArgumentError\u001b[0m:  Trying to access element 11 in a list with 11 elements.\n\t [[{{node model_2/basic_decoder_3/decoder/while/body/_10/cond/else/_726/TensorArrayV2Read/TensorListGetItem}}]] [Op:__inference_distributed_function_23552]\n\nFunction call stack:\ndistributed_function\n"
     ]
    }
   ],
   "source": [
    "model.fit(\n",
    "    x=[\n",
    "        X_encoder,\n",
    "        X_decoder,\n",
    "        encoder_seq_lens\n",
    "    ],\n",
    "    y=y_decoder\n",
    ")"
   ]
  },
  {
   "cell_type": "code",
   "execution_count": null,
   "metadata": {},
   "outputs": [],
   "source": [
    "x_eng_seq_lengths = pd.Series([len(e) for e in x_encoder_raw])\n",
    "\n",
    "INPUT_CHARS = sorted(\n",
    "    set(\n",
    "        char\n",
    "        for string in x_encoder_raw\n",
    "        for char in string\n",
    "    )\n",
    ")\n",
    "input_char_idx = {char: idx for idx, char in enumerate(INPUT_CHARS)}\n",
    "encoder_input = (\n",
    "    pd.DataFrame([\n",
    "        [input_char_idx[c]+1 for c in string] # it will be padded with zeros\n",
    "        for string in x_encoder_raw\n",
    "    ])\n",
    "    .fillna(value=0)\n",
    "    .astype(\"int32\")\n",
    ")\n",
    "\n",
    "OUTPUT_CHARS = sorted(set(\n",
    "    char\n",
    "    for string in x_decoder_raw\n",
    "    for char in string\n",
    "))\n",
    "output_char_idx = {char: idx for idx, char in enumerate(OUTPUT_CHARS)}\n",
    "decoder_input = pd.DataFrame(\n",
    "    [SOS_CHAR + row for row in x_decoder_raw]\n",
    ").astype(\"int32\")\n",
    "# TODO: don't concatenate strings directly! could be slow\n",
    "decoder_target = pd.DataFrame(\n",
    "    self.converter.convert_all([row + EOS_CHAR for row in x_decoder_raw])\n",
    ").astype(\"int32\")"
   ]
  },
  {
   "cell_type": "code",
   "execution_count": 88,
   "metadata": {},
   "outputs": [
    {
     "name": "stdout",
     "output_type": "stream",
     "text": [
      "Group: johann+ben\n",
      "Group: christine+neil\n",
      "Group: unnati+jana\n"
     ]
    }
   ],
   "source": [
    "from random import shuffle\n",
    "names = ['ben', 'christine', 'johann', 'jana', 'neil', 'unnati']\n",
    "group_size = 2\n",
    "shuffle(names)\n",
    "for idx in range(0, len(names), group_size):\n",
    "    print(f'Group: {\"+\".join(names[idx:idx+group_size])}')"
   ]
  },
  {
   "cell_type": "code",
   "execution_count": null,
   "metadata": {},
   "outputs": [],
   "source": []
  }
 ],
 "metadata": {
  "kernelspec": {
   "display_name": "tf2",
   "language": "python",
   "name": "tf2"
  },
  "language_info": {
   "codemirror_mode": {
    "name": "ipython",
    "version": 3
   },
   "file_extension": ".py",
   "mimetype": "text/x-python",
   "name": "python",
   "nbconvert_exporter": "python",
   "pygments_lexer": "ipython3",
   "version": "3.7.6"
  }
 },
 "nbformat": 4,
 "nbformat_minor": 4
}
